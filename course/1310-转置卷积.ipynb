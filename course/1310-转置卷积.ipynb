{
 "cells": [
  {
   "cell_type": "code",
   "id": "initial_id",
   "metadata": {
    "collapsed": true,
    "jupyter": {
     "outputs_hidden": true
    },
    "ExecuteTime": {
     "end_time": "2024-12-11T11:25:34.348987Z",
     "start_time": "2024-12-11T11:25:34.344733Z"
    }
   },
   "source": [
    "import torch\n",
    "from torch import nn\n",
    "from d2l import torch as d2l"
   ],
   "outputs": [],
   "execution_count": 33
  },
  {
   "cell_type": "markdown",
   "id": "2baff8f541c422e3",
   "metadata": {
    "collapsed": false,
    "jupyter": {
     "outputs_hidden": false
    }
   },
   "source": [
    "# 1. 基本操作"
   ]
  },
  {
   "cell_type": "code",
   "id": "be27bee1cbac1164",
   "metadata": {
    "collapsed": false,
    "jupyter": {
     "outputs_hidden": false
    },
    "ExecuteTime": {
     "end_time": "2024-12-11T11:25:34.428071Z",
     "start_time": "2024-12-11T11:25:34.395414Z"
    }
   },
   "source": [
    "\"\"\"\n",
    " X: 输入张量\n",
    " K: 卷积核\n",
    "\"\"\"\n",
    "def trans_conv(X, K):\n",
    "    h, w = K.shape\n",
    "    Y = torch.zeros((X.shape[0] + h - 1, X.shape[1] + w - 1))\n",
    "    for i in range(X.shape[0]):\n",
    "        for j in range(X.shape[1]):\n",
    "            Y[i: i + h, j: j + w] += X[i, j] * K\n",
    "    return Y"
   ],
   "outputs": [],
   "execution_count": 34
  },
  {
   "cell_type": "code",
   "id": "f645e89f3cb67c59",
   "metadata": {
    "collapsed": false,
    "jupyter": {
     "outputs_hidden": false
    },
    "ExecuteTime": {
     "end_time": "2024-12-11T11:25:34.488957Z",
     "start_time": "2024-12-11T11:25:34.446635Z"
    }
   },
   "source": [
    "X = torch.tensor([[0.0, 1.0], [2.0, 3.0]])\n",
    "K = torch.tensor([[0.0, 1.0], [2.0, 3.0]])\n",
    "print(X)\n",
    "print(K)\n",
    "trans_conv(X, K)"
   ],
   "outputs": [
    {
     "name": "stdout",
     "output_type": "stream",
     "text": [
      "tensor([[0., 1.],\n",
      "        [2., 3.]])\n",
      "tensor([[0., 1.],\n",
      "        [2., 3.]])\n"
     ]
    },
    {
     "data": {
      "text/plain": [
       "tensor([[ 0.,  0.,  1.],\n",
       "        [ 0.,  4.,  6.],\n",
       "        [ 4., 12.,  9.]])"
      ]
     },
     "execution_count": 35,
     "metadata": {},
     "output_type": "execute_result"
    }
   ],
   "execution_count": 35
  },
  {
   "cell_type": "code",
   "id": "6cccb8d49fe2c120",
   "metadata": {
    "collapsed": false,
    "jupyter": {
     "outputs_hidden": false
    },
    "ExecuteTime": {
     "end_time": "2024-12-11T11:25:34.547853Z",
     "start_time": "2024-12-11T11:25:34.502849Z"
    }
   },
   "source": [
    "X, K = X.reshape(1, 1, 2, 2), K.reshape(1, 1, 2, 2)\n",
    "print(X)\n",
    "print(K)\n",
    "\n",
    "## 定义一个转置卷积层，输入和输出通道数为 1，卷积核大小为 2x2\n",
    "tconv = nn.ConvTranspose2d(1, 1, kernel_size=2, bias=False)\n",
    "tconv.weight.data = K\n",
    "tconv(X)"
   ],
   "outputs": [
    {
     "name": "stdout",
     "output_type": "stream",
     "text": [
      "tensor([[[[0., 1.],\n",
      "          [2., 3.]]]])\n",
      "tensor([[[[0., 1.],\n",
      "          [2., 3.]]]])\n"
     ]
    },
    {
     "data": {
      "text/plain": [
       "tensor([[[[ 0.,  0.,  1.],\n",
       "          [ 0.,  4.,  6.],\n",
       "          [ 4., 12.,  9.]]]], grad_fn=<ConvolutionBackward0>)"
      ]
     },
     "execution_count": 36,
     "metadata": {},
     "output_type": "execute_result"
    }
   ],
   "execution_count": 36
  },
  {
   "cell_type": "markdown",
   "id": "ba8caac550b40796",
   "metadata": {},
   "source": ""
  },
  {
   "cell_type": "code",
   "id": "1c66f9de13756641",
   "metadata": {
    "collapsed": false,
    "jupyter": {
     "outputs_hidden": false
    },
    "ExecuteTime": {
     "end_time": "2024-12-11T11:25:34.606658Z",
     "start_time": "2024-12-11T11:25:34.554436Z"
    }
   },
   "source": [
    "# 定义一个转置卷积层，输入和输出通道数为 1，卷积核大小为 2x2，padding=1\n",
    "# 当将高和宽两侧的填充数指定为1时，转置卷积的输出中将删除第一和最后的行与列\n",
    "tconv = nn.ConvTranspose2d(1, 1, kernel_size=2, padding=1, bias=False)\n",
    "tconv.weight.data = K\n",
    "tconv(X)"
   ],
   "outputs": [
    {
     "data": {
      "text/plain": [
       "tensor([[[[4.]]]], grad_fn=<ConvolutionBackward0>)"
      ]
     },
     "execution_count": 37,
     "metadata": {},
     "output_type": "execute_result"
    }
   ],
   "execution_count": 37
  },
  {
   "metadata": {},
   "cell_type": "markdown",
   "source": [
    "步幅被指定为中间结果（输出），而不是输入\n",
    "![转置卷积_步幅为2](./attach/转置卷积_步幅为2.png)"
   ],
   "id": "19759e48fb9a0f5d"
  },
  {
   "metadata": {
    "ExecuteTime": {
     "end_time": "2024-12-11T11:25:34.675024Z",
     "start_time": "2024-12-11T11:25:34.614633Z"
    }
   },
   "cell_type": "code",
   "source": [
    "tconv = nn.ConvTranspose2d(1, 1, kernel_size=2, stride=2, bias=False)\n",
    "tconv.weight.data = K\n",
    "tconv(X)"
   ],
   "id": "9cfbe1af87ff5404",
   "outputs": [
    {
     "data": {
      "text/plain": [
       "tensor([[[[0., 0., 0., 1.],\n",
       "          [0., 0., 2., 3.],\n",
       "          [0., 2., 0., 3.],\n",
       "          [4., 6., 6., 9.]]]], grad_fn=<ConvolutionBackward0>)"
      ]
     },
     "execution_count": 38,
     "metadata": {},
     "output_type": "execute_result"
    }
   ],
   "execution_count": 38
  },
  {
   "cell_type": "code",
   "id": "f684c671cb18ffe6",
   "metadata": {
    "ExecuteTime": {
     "end_time": "2024-12-11T11:25:34.739132Z",
     "start_time": "2024-12-11T11:25:34.682825Z"
    }
   },
   "source": [
    "\"\"\"\n",
    "先卷积再转置卷积\n",
    "\"\"\"\n",
    "X = torch.rand(size=(1, 10, 16, 16))\n",
    "conv = nn.Conv2d(10, 20, kernel_size=5, padding=2, stride=3)\n",
    "tconv = nn.ConvTranspose2d(20, 10, kernel_size=5, padding=2, stride=3)\n",
    "tconv(conv(X)).shape == X.shape"
   ],
   "outputs": [
    {
     "data": {
      "text/plain": [
       "True"
      ]
     },
     "execution_count": 39,
     "metadata": {},
     "output_type": "execute_result"
    }
   ],
   "execution_count": 39
  },
  {
   "metadata": {},
   "cell_type": "markdown",
   "source": "# 3. 与矩阵变换的联系",
   "id": "c4e21538bebe1773"
  },
  {
   "metadata": {
    "ExecuteTime": {
     "end_time": "2024-12-11T11:25:34.815396Z",
     "start_time": "2024-12-11T11:25:34.745518Z"
    }
   },
   "cell_type": "code",
   "source": [
    "X = torch.arange(9.0).reshape(3, 3)\n",
    "K = torch.tensor([[1.0, 2.0], [3.0, 4.0]])\n",
    "Y = d2l.corr2d(X, K)\n",
    "Y"
   ],
   "id": "862d5bd3635d5541",
   "outputs": [
    {
     "data": {
      "text/plain": [
       "tensor([[27., 37.],\n",
       "        [57., 67.]])"
      ]
     },
     "execution_count": 40,
     "metadata": {},
     "output_type": "execute_result"
    }
   ],
   "execution_count": 40
  },
  {
   "metadata": {
    "ExecuteTime": {
     "end_time": "2024-12-11T11:25:34.904942Z",
     "start_time": "2024-12-11T11:25:34.821807Z"
    }
   },
   "cell_type": "code",
   "source": [
    "# K是卷积核，把卷积核转成一个向量W（不用太在意为什么按照这种方式转）\n",
    "def kernel2matrix(K):\n",
    "    k, W = torch.zeros(5), torch.zeros((4, 9))\n",
    "    k[:2], k[3:5] = K[0, :], K[1, :]\n",
    "    W[0, :5], W[1, 1:6], W[2, 3:8], W[3, 4:] = k, k, k, k\n",
    "    return W\n",
    "\n",
    "W = kernel2matrix(K)\n",
    "W"
   ],
   "id": "c5596980211a2b9a",
   "outputs": [
    {
     "data": {
      "text/plain": [
       "tensor([[1., 2., 0., 3., 4., 0., 0., 0., 0.],\n",
       "        [0., 1., 2., 0., 3., 4., 0., 0., 0.],\n",
       "        [0., 0., 0., 1., 2., 0., 3., 4., 0.],\n",
       "        [0., 0., 0., 0., 1., 2., 0., 3., 4.]])"
      ]
     },
     "execution_count": 41,
     "metadata": {},
     "output_type": "execute_result"
    }
   ],
   "execution_count": 41
  },
  {
   "metadata": {
    "ExecuteTime": {
     "end_time": "2024-12-11T11:25:34.978898Z",
     "start_time": "2024-12-11T11:25:34.911182Z"
    }
   },
   "cell_type": "code",
   "source": [
    "\"\"\"\n",
    "    1. 把X转成向量\n",
    "    2. W与X相乘\n",
    "    3. 得到的结果reshape(2, 2)\n",
    "\n",
    "    和通过卷积得到的Y相同\n",
    "\"\"\"\n",
    "Y == torch.matmul(W, X.reshape(-1)).reshape(2, 2)"
   ],
   "id": "67cb5f7198a5c6c0",
   "outputs": [
    {
     "data": {
      "text/plain": [
       "tensor([[True, True],\n",
       "        [True, True]])"
      ]
     },
     "execution_count": 42,
     "metadata": {},
     "output_type": "execute_result"
    }
   ],
   "execution_count": 42
  },
  {
   "metadata": {
    "ExecuteTime": {
     "end_time": "2024-12-11T11:25:35.076239Z",
     "start_time": "2024-12-11T11:25:34.986262Z"
    }
   },
   "cell_type": "code",
   "source": [
    "Z = trans_conv(Y, K)\n",
    "\n",
    "\"\"\"\n",
    "    1. 把Y转成向量\n",
    "    2. W的转置与Y相乘\n",
    "    3. 得到的结果reshape(3, 3)\n",
    "\n",
    "    和通过转置卷积得到的Z相同\n",
    "\"\"\"\n",
    "Z == torch.matmul(W.T, Y.reshape(-1)).reshape(3, 3)"
   ],
   "id": "5a383a811409d6ec",
   "outputs": [
    {
     "data": {
      "text/plain": [
       "tensor([[True, True, True],\n",
       "        [True, True, True],\n",
       "        [True, True, True]])"
      ]
     },
     "execution_count": 43,
     "metadata": {},
     "output_type": "execute_result"
    }
   ],
   "execution_count": 43
  },
  {
   "metadata": {
    "ExecuteTime": {
     "end_time": "2024-12-11T11:25:35.143472Z",
     "start_time": "2024-12-11T11:25:35.083582Z"
    }
   },
   "cell_type": "code",
   "source": "# 以上也就说明了，为什么反向的卷积称为转置卷积的原因",
   "id": "c08ad0ac2adcf560",
   "outputs": [],
   "execution_count": 44
  }
 ],
 "metadata": {
  "kernelspec": {
   "display_name": "Python 3 (ipykernel)",
   "language": "python",
   "name": "python3"
  },
  "language_info": {
   "codemirror_mode": {
    "name": "ipython",
    "version": 3
   },
   "file_extension": ".py",
   "mimetype": "text/x-python",
   "name": "python",
   "nbconvert_exporter": "python",
   "pygments_lexer": "ipython3",
   "version": "3.9.20"
  }
 },
 "nbformat": 4,
 "nbformat_minor": 5
}
