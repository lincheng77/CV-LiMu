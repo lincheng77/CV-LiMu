{
 "cells": [
  {
   "cell_type": "markdown",
   "id": "62503f9f3a1f69e6",
   "metadata": {},
   "source": [
    "# 1. R-CNN"
   ]
  },
  {
   "cell_type": "markdown",
   "id": "51d139cb39d10b2",
   "metadata": {},
   "source": [
    "# 2. Fast R-CNN"
   ]
  },
  {
   "cell_type": "code",
   "id": "284314e2",
   "metadata": {
    "ExecuteTime": {
     "end_time": "2024-11-27T07:33:27.180776Z",
     "start_time": "2024-11-27T07:33:27.170803Z"
    }
   },
   "source": [
    "import torch\n",
    "import torchvision\n",
    "\n",
    "X = torch.arange(16.).reshape(1, 1, 4, 4)\n",
    "X"
   ],
   "outputs": [
    {
     "data": {
      "text/plain": [
       "tensor([[[[ 0.,  1.,  2.,  3.],\n",
       "          [ 4.,  5.,  6.,  7.],\n",
       "          [ 8.,  9., 10., 11.],\n",
       "          [12., 13., 14., 15.]]]])"
      ]
     },
     "execution_count": 2,
     "metadata": {},
     "output_type": "execute_result"
    }
   ],
   "execution_count": 2
  },
  {
   "cell_type": "code",
   "id": "df8c63b4",
   "metadata": {
    "ExecuteTime": {
     "end_time": "2024-11-27T07:33:27.287490Z",
     "start_time": "2024-11-27T07:33:27.269538Z"
    }
   },
   "source": [
    "# 2个提议区域\n",
    "rois = torch.Tensor([[0, 0, 0, 20, 20], [0, 0, 10, 30, 30]])"
   ],
   "outputs": [],
   "execution_count": 3
  },
  {
   "cell_type": "code",
   "id": "c02179d6",
   "metadata": {
    "ExecuteTime": {
     "end_time": "2024-11-27T07:33:27.317410Z",
     "start_time": "2024-11-27T07:33:27.305442Z"
    }
   },
   "source": [
    "# output_size=(2, 2) 2*2 区域池化层\n",
    "# spatial_scale=0.1 原图 是40×40  而X是4×4  所以把提议区域 缩放0.1倍\n",
    "# roi_pool 抽取特征\n",
    "torchvision.ops.roi_pool(X, rois, output_size=(2, 2), spatial_scale=0.1)"
   ],
   "outputs": [
    {
     "data": {
      "text/plain": [
       "tensor([[[[ 5.,  6.],\n",
       "          [ 9., 10.]]],\n",
       "\n",
       "\n",
       "        [[[ 9., 11.],\n",
       "          [13., 15.]]]])"
      ]
     },
     "execution_count": 4,
     "metadata": {},
     "output_type": "execute_result"
    }
   ],
   "execution_count": 4
  },
  {
   "cell_type": "markdown",
   "id": "2e54f1c8",
   "metadata": {},
   "source": [
    "# 3. Faster R-CNN"
   ]
  },
  {
   "cell_type": "markdown",
   "id": "68afd6a5",
   "metadata": {},
   "source": [
    "# 4. Mask R-CNN"
   ]
  }
 ],
 "metadata": {
  "kernelspec": {
   "display_name": "d2l-gpu",
   "language": "python",
   "name": "d2l-gpu"
  },
  "language_info": {
   "codemirror_mode": {
    "name": "ipython",
    "version": 3
   },
   "file_extension": ".py",
   "mimetype": "text/x-python",
   "name": "python",
   "nbconvert_exporter": "python",
   "pygments_lexer": "ipython3",
   "version": "3.9.20"
  }
 },
 "nbformat": 4,
 "nbformat_minor": 5
}
